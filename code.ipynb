{
 "cells": [
  {
   "cell_type": "code",
   "execution_count": 58,
   "metadata": {},
   "outputs": [],
   "source": [
    "import numpy as np \n",
    "import pandas as pd\n",
    "import tensorflow as tf"
   ]
  },
  {
   "cell_type": "code",
   "execution_count": 59,
   "metadata": {},
   "outputs": [],
   "source": [
    "data = pd.read_excel('Folds5x2_pp.xlsx')"
   ]
  },
  {
   "cell_type": "code",
   "execution_count": 60,
   "metadata": {},
   "outputs": [
    {
     "data": {
      "text/html": [
       "<div>\n",
       "<style scoped>\n",
       "    .dataframe tbody tr th:only-of-type {\n",
       "        vertical-align: middle;\n",
       "    }\n",
       "\n",
       "    .dataframe tbody tr th {\n",
       "        vertical-align: top;\n",
       "    }\n",
       "\n",
       "    .dataframe thead th {\n",
       "        text-align: right;\n",
       "    }\n",
       "</style>\n",
       "<table border=\"1\" class=\"dataframe\">\n",
       "  <thead>\n",
       "    <tr style=\"text-align: right;\">\n",
       "      <th></th>\n",
       "      <th>AT</th>\n",
       "      <th>V</th>\n",
       "      <th>AP</th>\n",
       "      <th>RH</th>\n",
       "      <th>PE</th>\n",
       "    </tr>\n",
       "  </thead>\n",
       "  <tbody>\n",
       "    <tr>\n",
       "      <th>0</th>\n",
       "      <td>14.96</td>\n",
       "      <td>41.76</td>\n",
       "      <td>1024.07</td>\n",
       "      <td>73.17</td>\n",
       "      <td>463.26</td>\n",
       "    </tr>\n",
       "    <tr>\n",
       "      <th>1</th>\n",
       "      <td>25.18</td>\n",
       "      <td>62.96</td>\n",
       "      <td>1020.04</td>\n",
       "      <td>59.08</td>\n",
       "      <td>444.37</td>\n",
       "    </tr>\n",
       "    <tr>\n",
       "      <th>2</th>\n",
       "      <td>5.11</td>\n",
       "      <td>39.40</td>\n",
       "      <td>1012.16</td>\n",
       "      <td>92.14</td>\n",
       "      <td>488.56</td>\n",
       "    </tr>\n",
       "    <tr>\n",
       "      <th>3</th>\n",
       "      <td>20.86</td>\n",
       "      <td>57.32</td>\n",
       "      <td>1010.24</td>\n",
       "      <td>76.64</td>\n",
       "      <td>446.48</td>\n",
       "    </tr>\n",
       "    <tr>\n",
       "      <th>4</th>\n",
       "      <td>10.82</td>\n",
       "      <td>37.50</td>\n",
       "      <td>1009.23</td>\n",
       "      <td>96.62</td>\n",
       "      <td>473.90</td>\n",
       "    </tr>\n",
       "  </tbody>\n",
       "</table>\n",
       "</div>"
      ],
      "text/plain": [
       "      AT      V       AP     RH      PE\n",
       "0  14.96  41.76  1024.07  73.17  463.26\n",
       "1  25.18  62.96  1020.04  59.08  444.37\n",
       "2   5.11  39.40  1012.16  92.14  488.56\n",
       "3  20.86  57.32  1010.24  76.64  446.48\n",
       "4  10.82  37.50  1009.23  96.62  473.90"
      ]
     },
     "execution_count": 60,
     "metadata": {},
     "output_type": "execute_result"
    }
   ],
   "source": [
    "data.head()"
   ]
  },
  {
   "cell_type": "markdown",
   "metadata": {},
   "source": [
    "- **AT (Ambient Temperature)** - Temperature in °C  \n",
    "- **V (Exhaust Vacuum)** - Vacuum pressure in cm Hg  \n",
    "- **AP (Ambient Pressure)** - Atmospheric pressure in millibar (mbar)  \n",
    "- **RH (Relative Humidity)** - Relative humidity in %  \n",
    "- **PE (Power Output)** - Net electrical energy output in MW  \n"
   ]
  },
  {
   "cell_type": "code",
   "execution_count": 61,
   "metadata": {},
   "outputs": [],
   "source": [
    "X = data.iloc[: , :-1].values\n",
    "y = data.iloc[: , -1].values"
   ]
  },
  {
   "cell_type": "code",
   "execution_count": 62,
   "metadata": {},
   "outputs": [],
   "source": [
    "from sklearn.model_selection import train_test_split\n",
    "X_train , X_test , y_train , y_test = train_test_split(X,y,test_size=0.2,random_state=0)"
   ]
  },
  {
   "cell_type": "code",
   "execution_count": 63,
   "metadata": {},
   "outputs": [],
   "source": [
    "from sklearn.preprocessing import StandardScaler\n",
    "scaler = StandardScaler()\n",
    "X_train = scaler.fit_transform(X_train)\n",
    "X_test = scaler.transform(X_test)"
   ]
  },
  {
   "cell_type": "markdown",
   "metadata": {},
   "source": [
    "# Building ANN"
   ]
  },
  {
   "cell_type": "code",
   "execution_count": 64,
   "metadata": {},
   "outputs": [],
   "source": [
    "ann = tf.keras.models.Sequential()"
   ]
  },
  {
   "cell_type": "markdown",
   "metadata": {},
   "source": [
    "### hidden layers"
   ]
  },
  {
   "cell_type": "code",
   "execution_count": 65,
   "metadata": {},
   "outputs": [],
   "source": [
    "from tensorflow.keras.regularizers import l2\n",
    "from tensorflow.keras.layers import Dense\n"
   ]
  },
  {
   "cell_type": "code",
   "execution_count": 66,
   "metadata": {},
   "outputs": [],
   "source": [
    "ann.add(Dense(64 , activation='relu',kernel_regularizer=l2(0.01)))"
   ]
  },
  {
   "cell_type": "code",
   "execution_count": 67,
   "metadata": {},
   "outputs": [],
   "source": [
    "ann.add(Dense(64 , activation='relu',kernel_regularizer=l2(0.01)))"
   ]
  },
  {
   "cell_type": "markdown",
   "metadata": {},
   "source": [
    "### output layers"
   ]
  },
  {
   "cell_type": "code",
   "execution_count": 68,
   "metadata": {},
   "outputs": [],
   "source": [
    "ann.add(Dense(units=1))"
   ]
  },
  {
   "cell_type": "markdown",
   "metadata": {},
   "source": [
    "## Train the ANN"
   ]
  },
  {
   "cell_type": "code",
   "execution_count": 73,
   "metadata": {},
   "outputs": [],
   "source": [
    "from tensorflow.keras.optimizers import Adam\n",
    "learning_rate = 0.0001\n",
    "   "
   ]
  },
  {
   "cell_type": "code",
   "execution_count": 74,
   "metadata": {},
   "outputs": [],
   "source": [
    "ann.compile(optimizer=Adam(learning_rate=learning_rate),loss='mean_squared_error')"
   ]
  },
  {
   "cell_type": "code",
   "execution_count": 75,
   "metadata": {},
   "outputs": [
    {
     "name": "stdout",
     "output_type": "stream",
     "text": [
      "Epoch 1/100\n",
      "240/240 [==============================] - 1s 4ms/step - loss: 19.2360 - val_loss: 18.1382\n",
      "Epoch 2/100\n",
      "240/240 [==============================] - 1s 2ms/step - loss: 19.2301 - val_loss: 18.0095\n",
      "Epoch 3/100\n",
      "240/240 [==============================] - 1s 2ms/step - loss: 19.1511 - val_loss: 17.9956\n",
      "Epoch 4/100\n",
      "240/240 [==============================] - 1s 2ms/step - loss: 19.2419 - val_loss: 18.0414\n",
      "Epoch 5/100\n",
      "240/240 [==============================] - 1s 2ms/step - loss: 19.2282 - val_loss: 17.9652\n",
      "Epoch 6/100\n",
      "240/240 [==============================] - 1s 2ms/step - loss: 19.2441 - val_loss: 18.2135\n",
      "Epoch 7/100\n",
      "240/240 [==============================] - 1s 2ms/step - loss: 19.2196 - val_loss: 18.0122\n",
      "Epoch 8/100\n",
      "240/240 [==============================] - 1s 2ms/step - loss: 19.2070 - val_loss: 18.0300\n",
      "Epoch 9/100\n",
      "240/240 [==============================] - 1s 2ms/step - loss: 19.2015 - val_loss: 18.1545\n",
      "Epoch 10/100\n",
      "240/240 [==============================] - 1s 2ms/step - loss: 19.2387 - val_loss: 17.9886\n",
      "Epoch 11/100\n",
      "240/240 [==============================] - 1s 2ms/step - loss: 19.1813 - val_loss: 18.2787\n",
      "Epoch 12/100\n",
      "240/240 [==============================] - 1s 2ms/step - loss: 19.2144 - val_loss: 18.3863\n",
      "Epoch 13/100\n",
      "240/240 [==============================] - 1s 2ms/step - loss: 19.2225 - val_loss: 18.1123\n",
      "Epoch 14/100\n",
      "240/240 [==============================] - 1s 2ms/step - loss: 19.1833 - val_loss: 17.9838\n",
      "Epoch 15/100\n",
      "240/240 [==============================] - 1s 2ms/step - loss: 19.1790 - val_loss: 18.2251\n",
      "Epoch 16/100\n",
      "240/240 [==============================] - 1s 2ms/step - loss: 19.2193 - val_loss: 18.0225\n",
      "Epoch 17/100\n",
      "240/240 [==============================] - 1s 2ms/step - loss: 19.2431 - val_loss: 18.0119\n",
      "Epoch 18/100\n",
      "240/240 [==============================] - 1s 2ms/step - loss: 19.1998 - val_loss: 18.1931\n",
      "Epoch 19/100\n",
      "240/240 [==============================] - 1s 2ms/step - loss: 19.1200 - val_loss: 18.1192\n",
      "Epoch 20/100\n",
      "240/240 [==============================] - 1s 2ms/step - loss: 19.0994 - val_loss: 18.0239\n",
      "Epoch 21/100\n",
      "240/240 [==============================] - 1s 2ms/step - loss: 19.1951 - val_loss: 17.9444\n",
      "Epoch 22/100\n",
      "240/240 [==============================] - 1s 2ms/step - loss: 19.1547 - val_loss: 18.0602\n",
      "Epoch 23/100\n",
      "240/240 [==============================] - 1s 2ms/step - loss: 19.2150 - val_loss: 17.9808\n",
      "Epoch 24/100\n",
      "240/240 [==============================] - 1s 2ms/step - loss: 19.2181 - val_loss: 18.0178\n",
      "Epoch 25/100\n",
      "240/240 [==============================] - 1s 2ms/step - loss: 19.2116 - val_loss: 18.0354\n",
      "Epoch 26/100\n",
      "240/240 [==============================] - 1s 2ms/step - loss: 19.2066 - val_loss: 17.9471\n",
      "Epoch 27/100\n",
      "240/240 [==============================] - 1s 2ms/step - loss: 19.1775 - val_loss: 18.2381\n",
      "Epoch 28/100\n",
      "240/240 [==============================] - 1s 2ms/step - loss: 19.1320 - val_loss: 18.4324\n",
      "Epoch 29/100\n",
      "240/240 [==============================] - 1s 2ms/step - loss: 19.1748 - val_loss: 18.0540\n",
      "Epoch 30/100\n",
      "240/240 [==============================] - 1s 2ms/step - loss: 19.1873 - val_loss: 18.0900\n",
      "Epoch 31/100\n",
      "240/240 [==============================] - 1s 2ms/step - loss: 19.1735 - val_loss: 18.0598\n",
      "Epoch 32/100\n",
      "240/240 [==============================] - 1s 2ms/step - loss: 19.1268 - val_loss: 18.0536\n",
      "Epoch 33/100\n",
      "240/240 [==============================] - 1s 2ms/step - loss: 19.1551 - val_loss: 17.9423\n",
      "Epoch 34/100\n",
      "240/240 [==============================] - 1s 3ms/step - loss: 19.1729 - val_loss: 18.0932\n",
      "Epoch 35/100\n",
      "240/240 [==============================] - 1s 3ms/step - loss: 19.1887 - val_loss: 17.9843\n",
      "Epoch 36/100\n",
      "240/240 [==============================] - 1s 2ms/step - loss: 19.1118 - val_loss: 18.0943\n",
      "Epoch 37/100\n",
      "240/240 [==============================] - 1s 2ms/step - loss: 19.1639 - val_loss: 17.9949\n",
      "Epoch 38/100\n",
      "240/240 [==============================] - 1s 3ms/step - loss: 19.1830 - val_loss: 17.9588\n",
      "Epoch 39/100\n",
      "240/240 [==============================] - 1s 3ms/step - loss: 19.1326 - val_loss: 18.1119\n",
      "Epoch 40/100\n",
      "240/240 [==============================] - 0s 2ms/step - loss: 19.1833 - val_loss: 17.9210\n",
      "Epoch 41/100\n",
      "240/240 [==============================] - 1s 2ms/step - loss: 19.2185 - val_loss: 17.9771\n",
      "Epoch 42/100\n",
      "240/240 [==============================] - 1s 2ms/step - loss: 19.1159 - val_loss: 18.3775\n",
      "Epoch 43/100\n",
      "240/240 [==============================] - 1s 3ms/step - loss: 19.1922 - val_loss: 18.1817\n",
      "Epoch 44/100\n",
      "240/240 [==============================] - 1s 3ms/step - loss: 19.1177 - val_loss: 18.2539\n",
      "Epoch 45/100\n",
      "240/240 [==============================] - 1s 3ms/step - loss: 19.1906 - val_loss: 17.9162\n",
      "Epoch 46/100\n",
      "240/240 [==============================] - 1s 3ms/step - loss: 19.2037 - val_loss: 17.9677\n",
      "Epoch 47/100\n",
      "240/240 [==============================] - 1s 2ms/step - loss: 19.1248 - val_loss: 18.2295\n",
      "Epoch 48/100\n",
      "240/240 [==============================] - 1s 2ms/step - loss: 19.1707 - val_loss: 18.1496\n",
      "Epoch 49/100\n",
      "240/240 [==============================] - 1s 2ms/step - loss: 19.2967 - val_loss: 18.2617\n",
      "Epoch 50/100\n",
      "240/240 [==============================] - 1s 2ms/step - loss: 19.1826 - val_loss: 18.2722\n",
      "Epoch 51/100\n",
      "240/240 [==============================] - 1s 3ms/step - loss: 19.1780 - val_loss: 17.9297\n",
      "Epoch 52/100\n",
      "240/240 [==============================] - 1s 2ms/step - loss: 19.1400 - val_loss: 18.1749\n",
      "Epoch 53/100\n",
      "240/240 [==============================] - 1s 2ms/step - loss: 19.1806 - val_loss: 18.6127\n",
      "Epoch 54/100\n",
      "240/240 [==============================] - 1s 2ms/step - loss: 19.1375 - val_loss: 18.1727\n",
      "Epoch 55/100\n",
      "240/240 [==============================] - 1s 2ms/step - loss: 19.1581 - val_loss: 18.0586\n",
      "Epoch 56/100\n",
      "240/240 [==============================] - 1s 2ms/step - loss: 19.1478 - val_loss: 17.9786\n",
      "Epoch 57/100\n",
      "240/240 [==============================] - 1s 3ms/step - loss: 19.1306 - val_loss: 18.1680\n",
      "Epoch 58/100\n",
      "240/240 [==============================] - 1s 2ms/step - loss: 19.1271 - val_loss: 18.0209\n",
      "Epoch 59/100\n",
      "240/240 [==============================] - 1s 2ms/step - loss: 19.0986 - val_loss: 18.1324\n",
      "Epoch 60/100\n",
      "240/240 [==============================] - 1s 2ms/step - loss: 19.1942 - val_loss: 17.9547\n",
      "Epoch 61/100\n",
      "240/240 [==============================] - 1s 2ms/step - loss: 19.0981 - val_loss: 18.0679\n",
      "Epoch 62/100\n",
      "240/240 [==============================] - 1s 2ms/step - loss: 19.1996 - val_loss: 18.0049\n",
      "Epoch 63/100\n",
      "240/240 [==============================] - 1s 2ms/step - loss: 19.1242 - val_loss: 17.9862\n",
      "Epoch 64/100\n",
      "240/240 [==============================] - 1s 2ms/step - loss: 19.1053 - val_loss: 18.1964\n",
      "Epoch 65/100\n",
      "240/240 [==============================] - 1s 2ms/step - loss: 19.1631 - val_loss: 17.9548\n",
      "Epoch 66/100\n",
      "240/240 [==============================] - 1s 2ms/step - loss: 19.2111 - val_loss: 17.9182\n",
      "Epoch 67/100\n",
      "240/240 [==============================] - 1s 2ms/step - loss: 19.1735 - val_loss: 17.9135\n",
      "Epoch 68/100\n",
      "240/240 [==============================] - 1s 2ms/step - loss: 19.1425 - val_loss: 18.8866\n",
      "Epoch 69/100\n",
      "240/240 [==============================] - 1s 2ms/step - loss: 19.1326 - val_loss: 18.5059\n",
      "Epoch 70/100\n",
      "240/240 [==============================] - 1s 2ms/step - loss: 19.1533 - val_loss: 17.9306\n",
      "Epoch 71/100\n",
      "240/240 [==============================] - 1s 2ms/step - loss: 19.1146 - val_loss: 17.8783\n",
      "Epoch 72/100\n",
      "240/240 [==============================] - 1s 2ms/step - loss: 19.1891 - val_loss: 18.2496\n",
      "Epoch 73/100\n",
      "240/240 [==============================] - 1s 2ms/step - loss: 19.1587 - val_loss: 17.9063\n",
      "Epoch 74/100\n",
      "240/240 [==============================] - 1s 2ms/step - loss: 19.1864 - val_loss: 17.8902\n",
      "Epoch 75/100\n",
      "240/240 [==============================] - 1s 2ms/step - loss: 19.1512 - val_loss: 17.9314\n",
      "Epoch 76/100\n",
      "240/240 [==============================] - 1s 2ms/step - loss: 19.1279 - val_loss: 18.0033\n",
      "Epoch 77/100\n",
      "240/240 [==============================] - 1s 3ms/step - loss: 19.1459 - val_loss: 17.9162\n",
      "Epoch 78/100\n",
      "240/240 [==============================] - 1s 2ms/step - loss: 19.1923 - val_loss: 18.0304\n",
      "Epoch 79/100\n",
      "240/240 [==============================] - 1s 2ms/step - loss: 19.1729 - val_loss: 17.9806\n",
      "Epoch 80/100\n",
      "240/240 [==============================] - 1s 2ms/step - loss: 19.2472 - val_loss: 17.9619\n",
      "Epoch 81/100\n",
      "240/240 [==============================] - 1s 2ms/step - loss: 19.1495 - val_loss: 18.2344\n",
      "Epoch 82/100\n",
      "240/240 [==============================] - 1s 2ms/step - loss: 19.2737 - val_loss: 18.0803\n",
      "Epoch 83/100\n",
      "240/240 [==============================] - 1s 2ms/step - loss: 19.1270 - val_loss: 18.1768\n",
      "Epoch 84/100\n",
      "240/240 [==============================] - 1s 2ms/step - loss: 19.0701 - val_loss: 18.0387\n",
      "Epoch 85/100\n",
      "240/240 [==============================] - 1s 2ms/step - loss: 19.0346 - val_loss: 17.9687\n",
      "Epoch 86/100\n",
      "240/240 [==============================] - 1s 2ms/step - loss: 19.0845 - val_loss: 18.1673\n",
      "Epoch 87/100\n",
      "240/240 [==============================] - 1s 2ms/step - loss: 19.0866 - val_loss: 18.0080\n",
      "Epoch 88/100\n",
      "240/240 [==============================] - 1s 2ms/step - loss: 19.1652 - val_loss: 17.9896\n",
      "Epoch 89/100\n",
      "240/240 [==============================] - 1s 2ms/step - loss: 19.0864 - val_loss: 17.9327\n",
      "Epoch 90/100\n",
      "240/240 [==============================] - 1s 2ms/step - loss: 19.1993 - val_loss: 18.5806\n",
      "Epoch 91/100\n",
      "240/240 [==============================] - 1s 2ms/step - loss: 19.1166 - val_loss: 18.1814\n",
      "Epoch 92/100\n",
      "240/240 [==============================] - 1s 2ms/step - loss: 19.1117 - val_loss: 17.8777\n",
      "Epoch 93/100\n",
      "240/240 [==============================] - 1s 2ms/step - loss: 19.1168 - val_loss: 17.9921\n",
      "Epoch 94/100\n",
      "240/240 [==============================] - 1s 2ms/step - loss: 19.1573 - val_loss: 17.8822\n",
      "Epoch 95/100\n",
      "240/240 [==============================] - 1s 2ms/step - loss: 19.1101 - val_loss: 17.9932\n",
      "Epoch 96/100\n",
      "240/240 [==============================] - 1s 2ms/step - loss: 19.1252 - val_loss: 18.4694\n",
      "Epoch 97/100\n",
      "240/240 [==============================] - 1s 2ms/step - loss: 19.1043 - val_loss: 18.0287\n",
      "Epoch 98/100\n",
      "240/240 [==============================] - 1s 2ms/step - loss: 19.1525 - val_loss: 18.1689\n",
      "Epoch 99/100\n",
      "240/240 [==============================] - 1s 2ms/step - loss: 19.1342 - val_loss: 17.8740\n",
      "Epoch 100/100\n",
      "240/240 [==============================] - 1s 2ms/step - loss: 19.1968 - val_loss: 17.8702\n"
     ]
    },
    {
     "data": {
      "text/plain": [
       "<keras.callbacks.History at 0x174bbeebb20>"
      ]
     },
     "execution_count": 75,
     "metadata": {},
     "output_type": "execute_result"
    }
   ],
   "source": [
    "ann.fit(X_train,y_train,\n",
    "        validation_data=(X_test,y_test),\n",
    "        batch_size=32,epochs=100)"
   ]
  },
  {
   "cell_type": "code",
   "execution_count": null,
   "metadata": {},
   "outputs": [],
   "source": []
  }
 ],
 "metadata": {
  "kernelspec": {
   "display_name": "tensorflow",
   "language": "python",
   "name": "python3"
  },
  "language_info": {
   "codemirror_mode": {
    "name": "ipython",
    "version": 3
   },
   "file_extension": ".py",
   "mimetype": "text/x-python",
   "name": "python",
   "nbconvert_exporter": "python",
   "pygments_lexer": "ipython3",
   "version": "3.10.16"
  }
 },
 "nbformat": 4,
 "nbformat_minor": 2
}
